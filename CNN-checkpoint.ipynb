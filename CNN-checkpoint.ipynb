{
 "cells": [
  {
   "cell_type": "code",
   "execution_count": 66,
   "metadata": {},
   "outputs": [],
   "source": [
    "#CNN implementation on MNIST dataset\n",
    "\n",
    "import pandas as pd\n",
    "from sklearn.metrics import accuracy_score\n",
    "from sklearn.model_selection import train_test_split\n",
    "import matplotlib.pyplot as plt\n",
    "#import pickle as pkl\n",
    "df = pd.read_csv(\"D:/ML/MNIST CNN/mnist_train.csv\")\n"
   ]
  },
  {
   "cell_type": "code",
   "execution_count": 67,
   "metadata": {},
   "outputs": [
    {
     "data": {
      "text/plain": [
       "(60000, 785)"
      ]
     },
     "execution_count": 67,
     "metadata": {},
     "output_type": "execute_result"
    }
   ],
   "source": [
    "df.shape"
   ]
  },
  {
   "cell_type": "code",
   "execution_count": 68,
   "metadata": {},
   "outputs": [],
   "source": [
    "X = df.iloc[0:,1:]\n",
    "y = df.iloc[:,0]"
   ]
  },
  {
   "cell_type": "code",
   "execution_count": 69,
   "metadata": {},
   "outputs": [
    {
     "data": {
      "text/plain": [
       "(60000, 784)"
      ]
     },
     "execution_count": 69,
     "metadata": {},
     "output_type": "execute_result"
    }
   ],
   "source": [
    "X.shape\n",
    "y.shape\n",
    "X.info\n",
    "X.head()\n",
    "y.head()\n",
    "X.shape"
   ]
  },
  {
   "cell_type": "code",
   "execution_count": 70,
   "metadata": {},
   "outputs": [
    {
     "data": {
      "text/plain": [
       "pandas.core.frame.DataFrame"
      ]
     },
     "execution_count": 70,
     "metadata": {},
     "output_type": "execute_result"
    }
   ],
   "source": [
    "X_train,X_test,y_train,y_test = train_test_split(X,y,test_size = 0.3,random_state=42)\n",
    "X_train.shape\n",
    "X_test.shape\n",
    "type(X_train)\n",
    "\n",
    "#plt.imshow(X_train[0])"
   ]
  },
  {
   "cell_type": "code",
   "execution_count": 71,
   "metadata": {},
   "outputs": [],
   "source": [
    "#plt.imshow(X_train[0])\n",
    "\n",
    "#reshap edata\n",
    "#to reshape dataframe use value to re shape it as pandas series\n",
    "\n",
    "X_train = X_train.values.reshape(42000,28,28,1)\n",
    "X_test = X_test.values.reshape(18000,28,28,1)\n",
    "\n",
    "\n"
   ]
  },
  {
   "cell_type": "code",
   "execution_count": 72,
   "metadata": {},
   "outputs": [
    {
     "data": {
      "text/plain": [
       "(42000,)"
      ]
     },
     "execution_count": 72,
     "metadata": {},
     "output_type": "execute_result"
    }
   ],
   "source": [
    "X_train.shape\n",
    "y_train.shape"
   ]
  },
  {
   "cell_type": "code",
   "execution_count": 73,
   "metadata": {},
   "outputs": [],
   "source": [
    "from keras.utils import to_categorical\n",
    "\n",
    "#One hot encoding for target variable\n",
    "\n",
    "y_train = to_categorical(y_train)\n",
    "\n",
    "y_test = to_categorical(y_test)"
   ]
  },
  {
   "cell_type": "code",
   "execution_count": 74,
   "metadata": {},
   "outputs": [
    {
     "data": {
      "text/plain": [
       "array([[0., 0., 0., ..., 1., 0., 0.],\n",
       "       [0., 0., 0., ..., 0., 0., 0.],\n",
       "       [0., 0., 0., ..., 0., 0., 0.],\n",
       "       ...,\n",
       "       [1., 0., 0., ..., 0., 0., 0.],\n",
       "       [1., 0., 0., ..., 0., 0., 0.],\n",
       "       [0., 0., 0., ..., 0., 0., 0.]], dtype=float32)"
      ]
     },
     "execution_count": 74,
     "metadata": {},
     "output_type": "execute_result"
    }
   ],
   "source": [
    "y_train"
   ]
  },
  {
   "cell_type": "code",
   "execution_count": 23,
   "metadata": {},
   "outputs": [],
   "source": [
    "# Creating a CNN \n",
    "\n",
    "from keras.models import Sequential\n",
    "from keras.layers import Flatten, Dense,Conv2D\n",
    "\n",
    "model = Sequential()\n",
    "\n",
    "model.add(Conv2D(64,kernel_size =3,activation ='relu', input_shape = (28,28,1)))\n",
    "model.add(Conv2D(32,kernel_size=3,activation='relu',input_shape=(28,28,1)))\n",
    "\n",
    "model.add(Flatten())\n",
    "model.add(Dense(10, activation = 'softmax'))"
   ]
  },
  {
   "cell_type": "code",
   "execution_count": 24,
   "metadata": {},
   "outputs": [],
   "source": [
    "model.compile(optimizer = 'adam',loss = 'categorical_crossentropy',metrics = ['accuracy'])"
   ]
  },
  {
   "cell_type": "code",
   "execution_count": 25,
   "metadata": {},
   "outputs": [
    {
     "name": "stdout",
     "output_type": "stream",
     "text": [
      "Epoch 1/3\n",
      "1313/1313 [==============================] - 79s 61ms/step - loss: 0.3207 - accuracy: 0.9415 - val_loss: 0.1093 - val_accuracy: 0.9677\n",
      "Epoch 2/3\n",
      "1313/1313 [==============================] - 78s 59ms/step - loss: 0.0790 - accuracy: 0.9757 - val_loss: 0.0987 - val_accuracy: 0.9721\n",
      "Epoch 3/3\n",
      "1313/1313 [==============================] - 77s 59ms/step - loss: 0.0511 - accuracy: 0.9841 - val_loss: 0.1124 - val_accuracy: 0.9700\n"
     ]
    },
    {
     "data": {
      "text/plain": [
       "<tensorflow.python.keras.callbacks.History at 0x15a1aaf60f0>"
      ]
     },
     "execution_count": 25,
     "metadata": {},
     "output_type": "execute_result"
    }
   ],
   "source": [
    "model.fit(X_train,y_train,validation_data = (X_test,y_test),epochs=3)"
   ]
  },
  {
   "cell_type": "code",
   "execution_count": 75,
   "metadata": {},
   "outputs": [],
   "source": [
    "test = pd.read_csv(\"D:/ML/MNIST CNN/mnist_test.csv\")"
   ]
  },
  {
   "cell_type": "code",
   "execution_count": 76,
   "metadata": {},
   "outputs": [],
   "source": [
    "test_X = test.iloc[0:,1:]\n",
    "test_y = test.iloc[:,0]"
   ]
  },
  {
   "cell_type": "code",
   "execution_count": 77,
   "metadata": {},
   "outputs": [],
   "source": [
    "test_X.shape\n",
    "test_y = to_categorical(test_y)"
   ]
  },
  {
   "cell_type": "code",
   "execution_count": 78,
   "metadata": {},
   "outputs": [],
   "source": [
    "test_X = test_X.values.reshape(10000,28,28,1)"
   ]
  },
  {
   "cell_type": "code",
   "execution_count": 79,
   "metadata": {},
   "outputs": [
    {
     "data": {
      "text/plain": [
       "array([[5.56912953e-11, 3.36567661e-13, 3.63601856e-07, 1.08952845e-04,\n",
       "        7.15607789e-14, 1.98148182e-11, 3.83210185e-19, 9.99890566e-01,\n",
       "        1.56342703e-10, 8.27553137e-08],\n",
       "       [6.22175662e-08, 1.75096011e-06, 9.99998093e-01, 2.18585914e-08,\n",
       "        1.78802563e-11, 5.48577839e-13, 1.00445563e-08, 1.03839801e-16,\n",
       "        9.48266816e-08, 1.58926657e-14],\n",
       "       [7.65741061e-06, 9.96971965e-01, 4.88863210e-04, 6.24473842e-08,\n",
       "        5.98644197e-04, 6.12188451e-05, 4.08912201e-05, 7.06352012e-06,\n",
       "        1.82262424e-03, 1.08162783e-06],\n",
       "       [1.00000000e+00, 5.94921849e-16, 1.12731904e-08, 3.10554078e-12,\n",
       "        7.16992316e-14, 2.62050364e-13, 3.99859095e-12, 7.49963564e-15,\n",
       "        1.28930623e-12, 5.12925968e-09]], dtype=float32)"
      ]
     },
     "execution_count": 79,
     "metadata": {},
     "output_type": "execute_result"
    }
   ],
   "source": [
    "model.predict(test_X[:4])"
   ]
  },
  {
   "cell_type": "code",
   "execution_count": 80,
   "metadata": {},
   "outputs": [
    {
     "data": {
      "text/plain": [
       "array([[0., 0., 0., 0., 0., 0., 0., 1., 0., 0.],\n",
       "       [0., 0., 1., 0., 0., 0., 0., 0., 0., 0.],\n",
       "       [0., 1., 0., 0., 0., 0., 0., 0., 0., 0.],\n",
       "       [1., 0., 0., 0., 0., 0., 0., 0., 0., 0.]], dtype=float32)"
      ]
     },
     "execution_count": 80,
     "metadata": {},
     "output_type": "execute_result"
    }
   ],
   "source": [
    "test_y[:4]"
   ]
  },
  {
   "cell_type": "code",
   "execution_count": 81,
   "metadata": {},
   "outputs": [
    {
     "data": {
      "text/plain": [
       "<matplotlib.image.AxesImage at 0x15a21073358>"
      ]
     },
     "execution_count": 81,
     "metadata": {},
     "output_type": "execute_result"
    },
    {
     "data": {
      "image/png": "[encoded data removed]",
      "text/plain": [
       "<Figure size 432x288 with 1 Axes>"
      ]
     },
     "metadata": {},
     "output_type": "display_data"
    }
   ],
   "source": [
    "# Could load the dataset directly as below in Numpy array format for visualization as well\n",
    "\n",
    "#from keras.datasets import mnist\n",
    "#download mnist data and split into train and test sets\n",
    "#(X_train, y_train), (X_test, y_test) = mnist.load_data()\n",
    "\n",
    "plt.imshow(X_train[100])"
   ]
  },
  {
   "cell_type": "code",
   "execution_count": 85,
   "metadata": {},
   "outputs": [
    {
     "name": "stdout",
     "output_type": "stream",
     "text": [
      "INFO:tensorflow:Assets written to: CNN_MNIST.model\\assets\n"
     ]
    }
   ],
   "source": [
    "# Dump RF into pickel\n",
    "model.save('CNN_MNIST.model')\n",
    "\n",
    "import tensorflow as tf"
   ]
  },
  {
   "cell_type": "markdown",
   "metadata": {},
   "source": []
  },
  {
   "cell_type": "code",
   "execution_count": 86,
   "metadata": {},
   "outputs": [],
   "source": [
    "loaded_model = tf.keras.models.load_model('CNN_MNIST.model')"
   ]
  },
  {
   "cell_type": "code",
   "execution_count": 87,
   "metadata": {},
   "outputs": [
    {
     "data": {
      "text/plain": [
       "array([[5.56912953e-11, 3.36567661e-13, 3.63601856e-07, 1.08952845e-04,\n",
       "        7.15607789e-14, 1.98148182e-11, 3.83210185e-19, 9.99890566e-01,\n",
       "        1.56342703e-10, 8.27553137e-08],\n",
       "       [6.22175662e-08, 1.75096011e-06, 9.99998093e-01, 2.18585914e-08,\n",
       "        1.78802563e-11, 5.48577839e-13, 1.00445563e-08, 1.03839801e-16,\n",
       "        9.48266816e-08, 1.58926657e-14],\n",
       "       [7.65741061e-06, 9.96971965e-01, 4.88863210e-04, 6.24473842e-08,\n",
       "        5.98644197e-04, 6.12188451e-05, 4.08912201e-05, 7.06352012e-06,\n",
       "        1.82262424e-03, 1.08162783e-06],\n",
       "       [1.00000000e+00, 5.94921849e-16, 1.12731904e-08, 3.10554078e-12,\n",
       "        7.16992316e-14, 2.62050364e-13, 3.99859095e-12, 7.49963564e-15,\n",
       "        1.28930623e-12, 5.12925968e-09]], dtype=float32)"
      ]
     },
     "execution_count": 87,
     "metadata": {},
     "output_type": "execute_result"
    }
   ],
   "source": [
    "loaded_model.predict(test_X[:4])"
   ]
  },
  {
   "cell_type": "code",
   "execution_count": null,
   "metadata": {},
   "outputs": [],
   "source": []
  }
 ],
 "metadata": {
  "kernelspec": {
   "display_name": "Python 3",
   "language": "python",
   "name": "python3"
  },
  "language_info": {
   "codemirror_mode": {
    "name": "ipython",
    "version": 3
   },
   "file_extension": ".py",
   "mimetype": "text/x-python",
   "name": "python",
   "nbconvert_exporter": "python",
   "pygments_lexer": "ipython3",
   "version": "3.6.4"
  }
 },
 "nbformat": 4,
 "nbformat_minor": 2
}

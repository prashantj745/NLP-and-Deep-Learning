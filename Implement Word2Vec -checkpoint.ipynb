{
 "cells": [
  {
   "cell_type": "code",
   "execution_count": 5,
   "metadata": {},
   "outputs": [],
   "source": [
    "import nltk\n",
    "from gensim.models import Word2Vec\n",
    "from nltk.corpus import stopwords\n",
    "import re"
   ]
  },
  {
   "cell_type": "markdown",
   "metadata": {},
   "source": [
    "# Example corpus"
   ]
  },
  {
   "cell_type": "code",
   "execution_count": 10,
   "metadata": {},
   "outputs": [
    {
     "data": {
      "text/plain": [
       "str"
      ]
     },
     "execution_count": 10,
     "metadata": {},
     "output_type": "execute_result"
    }
   ],
   "source": [
    "paragraph = \"\"\"I have three visions for India. In 3000 years of our history, people from all over \n",
    "               the world have come and invaded us, captured our lands, conquered our minds. \n",
    "               From Alexander onwards, the Greeks, the Turks, the Moguls, the Portuguese, the British,\n",
    "               the French, the Dutch, all of them came and looted us, took over what was ours. \n",
    "               Yet we have not done this to any other nation. We have not conquered anyone. \n",
    "               We have not grabbed their land, their culture, \n",
    "               their history and tried to enforce our way of life on them. \n",
    "               Why? Because we respect the freedom of others.That is why my \n",
    "               first vision is that of freedom. I believe that India got its first vision of \n",
    "               this in 1857, when we started the War of Independence. It is this freedom that\n",
    "               we must protect and nurture and build on. If we are not free, no one will respect us.\n",
    "               My second vision for India’s development. For fifty years we have been a developing nation.\n",
    "               It is time we see ourselves as a developed nation. We are among the top 5 nations of the world\n",
    "               in terms of GDP. We have a 10 percent growth rate in most areas. Our poverty levels are falling.\n",
    "               Our achievements are being globally recognised today. Yet we lack the self-confidence to\n",
    "               see ourselves as a developed nation, self-reliant and self-assured. Isn’t this incorrect?\n",
    "               I have a third vision. India must stand up to the world. Because I believe that unless India \n",
    "               stands up to the world, no one will respect us. Only strength respects strength. We must be \n",
    "               strong not only as a military power but also as an economic power. Both must go hand-in-hand. \n",
    "               My good fortune was to have worked with three great minds. Dr. Vikram Sarabhai of the Dept. of \n",
    "               space, Professor Satish Dhawan, who succeeded him and Dr. Brahm Prakash, father of nuclear material.\n",
    "               I was lucky to have worked with all three of them closely and consider this the great opportunity of my life. \n",
    "               I see four milestones in my career\"\"\"\n",
    "type(paragraph)"
   ]
  },
  {
   "cell_type": "code",
   "execution_count": 37,
   "metadata": {},
   "outputs": [],
   "source": [
    "from nltk.stem import PorterStemmer\n",
    "ps = PorterStemmer()\n",
    "def preprocess(para):\n",
    "    \n",
    "    text = re.sub('[^a-zA-z]', ' ',paragraph)\n",
    "    text = text.lower()\n",
    "    text = text.split()\n",
    "    \n",
    "    text = [ps.stem(word) for word in text if not word in stopwords.words('english')]\n",
    "    text = ' '.join(text)\n",
    "   \n",
    "    return text\n",
    "    \n"
   ]
  },
  {
   "cell_type": "code",
   "execution_count": 57,
   "metadata": {},
   "outputs": [
    {
     "name": "stdout",
     "output_type": "stream",
     "text": [
      "three vision india year histori peopl world come invad us captur land conquer mind alexand onward greek turk mogul portugues british french dutch came loot us took yet done nation conquer anyon grab land cultur histori tri enforc way life respect freedom other first vision freedom believ india got first vision start war independ freedom must protect nurtur build free one respect us second vision india develop fifti year develop nation time see develop nation among top nation world term gdp percent growth rate area poverti level fall achiev global recognis today yet lack self confid see develop nation self reliant self assur incorrect third vision india must stand world believ unless india stand world one respect us strength respect strength must strong militari power also econom power must go hand hand good fortun work three great mind dr vikram sarabhai dept space professor satish dhawan succeed dr brahm prakash father nuclear materi lucki work three close consid great opportun life see four mileston career\n"
     ]
    }
   ],
   "source": [
    "clean_txt = preprocess(paragraph)\n",
    "print(clean_txt)"
   ]
  },
  {
   "cell_type": "code",
   "execution_count": 58,
   "metadata": {},
   "outputs": [
    {
     "name": "stdout",
     "output_type": "stream",
     "text": [
      "['three', 'vision', 'india', 'year', 'histori', 'peopl', 'world', 'come', 'invad', 'us', 'captur', 'land', 'conquer', 'mind', 'alexand', 'onward', 'greek', 'turk', 'mogul', 'portugues', 'british', 'french', 'dutch', 'came', 'loot', 'us', 'took', 'yet', 'done', 'nation', 'conquer', 'anyon', 'grab', 'land', 'cultur', 'histori', 'tri', 'enforc', 'way', 'life', 'respect', 'freedom', 'other', 'first', 'vision', 'freedom', 'believ', 'india', 'got', 'first', 'vision', 'start', 'war', 'independ', 'freedom', 'must', 'protect', 'nurtur', 'build', 'free', 'one', 'respect', 'us', 'second', 'vision', 'india', 'develop', 'fifti', 'year', 'develop', 'nation', 'time', 'see', 'develop', 'nation', 'among', 'top', 'nation', 'world', 'term', 'gdp', 'percent', 'growth', 'rate', 'area', 'poverti', 'level', 'fall', 'achiev', 'global', 'recognis', 'today', 'yet', 'lack', 'self', 'confid', 'see', 'develop', 'nation', 'self', 'reliant', 'self', 'assur', 'incorrect', 'third', 'vision', 'india', 'must', 'stand', 'world', 'believ', 'unless', 'india', 'stand', 'world', 'one', 'respect', 'us', 'strength', 'respect', 'strength', 'must', 'strong', 'militari', 'power', 'also', 'econom', 'power', 'must', 'go', 'hand', 'hand', 'good', 'fortun', 'work', 'three', 'great', 'mind', 'dr', 'vikram', 'sarabhai', 'dept', 'space', 'professor', 'satish', 'dhawan', 'succeed', 'dr', 'brahm', 'prakash', 'father', 'nuclear', 'materi', 'lucki', 'work', 'three', 'close', 'consid', 'great', 'opportun', 'life', 'see', 'four', 'mileston', 'career']\n"
     ]
    }
   ],
   "source": [
    "from nltk.tokenize import TweetTokenizer\n",
    "tknzr = TweetTokenizer(strip_handles=True, reduce_len=True)\n",
    "final_text = tknzr.tokenize(clean_txt)\n",
    "print(final_text)"
   ]
  },
  {
   "cell_type": "code",
   "execution_count": 70,
   "metadata": {},
   "outputs": [
    {
     "name": "stdout",
     "output_type": "stream",
     "text": [
      "[['three', 'vision', 'india', 'year', 'histori', 'peopl', 'world', 'come', 'invad', 'us', 'captur', 'land', 'conquer', 'mind', 'alexand', 'onward', 'greek', 'turk', 'mogul', 'portugues', 'british', 'french', 'dutch', 'came', 'loot', 'us', 'took', 'yet', 'done', 'nation', 'conquer', 'anyon', 'grab', 'land', 'cultur', 'histori', 'tri', 'enforc', 'way', 'life', 'respect', 'freedom', 'other', 'first', 'vision', 'freedom', 'believ', 'india', 'got', 'first', 'vision', 'start', 'war', 'independ', 'freedom', 'must', 'protect', 'nurtur', 'build', 'free', 'one', 'respect', 'us', 'second', 'vision', 'india', 'develop', 'fifti', 'year', 'develop', 'nation', 'time', 'see', 'develop', 'nation', 'among', 'top', 'nation', 'world', 'term', 'gdp', 'percent', 'growth', 'rate', 'area', 'poverti', 'level', 'fall', 'achiev', 'global', 'recognis', 'today', 'yet', 'lack', 'self', 'confid', 'see', 'develop', 'nation', 'self', 'reliant', 'self', 'assur', 'incorrect', 'third', 'vision', 'india', 'must', 'stand', 'world', 'believ', 'unless', 'india', 'stand', 'world', 'one', 'respect', 'us', 'strength', 'respect', 'strength', 'must', 'strong', 'militari', 'power', 'also', 'econom', 'power', 'must', 'go', 'hand', 'hand', 'good', 'fortun', 'work', 'three', 'great', 'mind', 'dr', 'vikram', 'sarabhai', 'dept', 'space', 'professor', 'satish', 'dhawan', 'succeed', 'dr', 'brahm', 'prakash', 'father', 'nuclear', 'materi', 'lucki', 'work', 'three', 'close', 'consid', 'great', 'opportun', 'life', 'see', 'four', 'mileston', 'career']]\n"
     ]
    }
   ],
   "source": [
    "sentences = nltk.sent_tokenize(clean_txt)\n",
    "\n",
    "sentences = [nltk.word_tokenize(sentence) for sentence in sentences]\n",
    "print(sentences)"
   ]
  },
  {
   "cell_type": "code",
   "execution_count": 85,
   "metadata": {},
   "outputs": [],
   "source": [
    "model = Word2Vec(sentences,size = 200,workers =2,window=2,sg=1, min_count=1)\n"
   ]
  },
  {
   "cell_type": "code",
   "execution_count": 86,
   "metadata": {},
   "outputs": [],
   "source": [
    "words = model.wv.vocab"
   ]
  },
  {
   "cell_type": "code",
   "execution_count": 87,
   "metadata": {},
   "outputs": [
    {
     "name": "stdout",
     "output_type": "stream",
     "text": [
      "[-5.19477937e-04 -2.44660187e-03  1.28594437e-03 -1.17573189e-03\n",
      "  1.13456429e-03 -4.81150200e-04  7.28253566e-04 -1.98043208e-03\n",
      " -7.22904631e-04 -6.77299511e-04 -1.41137140e-03  1.19928096e-03\n",
      "  2.42665946e-03 -7.69135717e-04  1.98153127e-03  6.18741557e-04\n",
      "  2.31991615e-03 -2.18764483e-03 -2.10544342e-04  8.36657011e-04\n",
      " -1.16940611e-03 -1.22134911e-03  1.09224685e-03  1.59241352e-03\n",
      "  7.01433964e-06 -1.07886817e-03  1.89381163e-03 -1.69654447e-03\n",
      " -1.96877215e-03  1.92849824e-04 -8.74716905e-04 -1.65777479e-03\n",
      " -2.46656709e-04  1.01653731e-03 -1.31878804e-03 -4.72201296e-04\n",
      "  4.29840758e-04  1.30361703e-03 -7.83322612e-04  2.38697790e-03\n",
      "  1.24044204e-03 -3.78859579e-04  1.85425323e-03  8.52257421e-04\n",
      "  8.47623916e-04 -1.25747314e-03 -1.67920534e-03 -1.57099462e-03\n",
      " -1.32176548e-03 -2.42189108e-03 -6.53792347e-04  2.03400967e-03\n",
      "  1.87880639e-03 -1.04358792e-03 -3.13266879e-04  8.37361804e-05\n",
      " -1.42123736e-03 -5.96118509e-04 -1.32770941e-03  9.57615499e-04\n",
      " -3.76227748e-04 -1.17409276e-03  5.44704671e-04  1.58609066e-03\n",
      "  1.32786902e-03 -4.31888533e-04 -1.08811283e-03  1.07118976e-04\n",
      "  2.47381441e-03  1.64014613e-03 -1.51660744e-04  1.05094840e-03\n",
      "  1.64146686e-03 -1.60110113e-03 -1.42042374e-03  1.90187781e-03\n",
      "  1.69440452e-03 -4.40827804e-04 -1.08251651e-03  2.25810357e-03\n",
      " -6.78472221e-04  6.17015641e-04 -2.42752768e-03 -7.81620096e-04\n",
      " -1.34384457e-03 -1.61876553e-03 -4.39283729e-04 -1.04258419e-03\n",
      "  2.17465800e-03 -1.35101972e-03 -1.92579068e-03 -1.65474915e-03\n",
      " -6.16935373e-04 -2.69518176e-04  2.24851514e-03 -7.78110989e-04\n",
      "  9.25504311e-04 -5.77770930e-04 -1.50969042e-03 -1.02631550e-03\n",
      " -1.57100603e-03  2.37758039e-03  5.78249397e-04 -8.94521654e-04\n",
      "  2.07163044e-04  7.09343469e-04 -4.63594391e-04  1.80705581e-04\n",
      "  5.62766276e-04  3.80101381e-04 -6.43582025e-04  1.31139270e-04\n",
      " -1.09373371e-03 -4.20592463e-04  2.01175967e-03 -1.21651136e-03\n",
      "  1.49567728e-03  1.70380890e-03  1.32969557e-03  5.31960686e-04\n",
      "  2.02088105e-03  2.07988336e-03 -7.14087626e-04 -7.02754362e-04\n",
      "  1.95441162e-03 -2.00911774e-03 -9.46896733e-04  2.46749399e-03\n",
      " -3.50872579e-04  2.94567901e-04 -1.50715641e-03 -2.32439401e-04\n",
      "  1.52049412e-03 -1.24928512e-04 -7.65918812e-04  1.43846124e-03\n",
      "  1.26443896e-03  2.29882519e-03 -8.54528625e-04 -1.95972598e-03\n",
      "  1.74997805e-03  8.61614768e-04  2.26380909e-03  7.91204220e-04\n",
      " -1.33497349e-03  1.97008345e-03 -1.51073735e-04  1.51171174e-03\n",
      "  2.14892277e-03  3.58987454e-04  3.75978445e-04  2.15383433e-03\n",
      " -1.74735277e-03  5.84343506e-04  1.42995315e-03 -1.42871612e-03\n",
      "  2.31866492e-03 -4.79677052e-04  2.41019740e-03 -9.08056682e-04\n",
      " -1.93348434e-03  1.40003802e-04 -2.33353255e-03 -9.77854012e-04\n",
      "  9.75990552e-04  8.91596777e-04 -6.63707673e-04  1.31591887e-03\n",
      " -1.53411867e-03 -2.24427599e-03  2.57778243e-04  1.28322921e-03\n",
      " -1.59800239e-03  7.88748206e-04  1.74291036e-03  1.51201349e-03\n",
      "  1.54753530e-03 -1.82402640e-04 -1.26268668e-03 -9.65610452e-05\n",
      "  1.03168531e-04  6.70008376e-05  9.09109542e-04  1.21023343e-03\n",
      "  4.63677337e-04  1.19412388e-03 -4.99732385e-04 -8.21562600e-04\n",
      " -1.85767561e-03 -7.81996641e-04  2.54298066e-04  1.20881724e-03\n",
      " -2.21024733e-03 -1.15469447e-03 -2.14501051e-03  2.30846531e-03\n",
      "  2.39784177e-03 -7.78690795e-04  2.42065941e-03  2.18304433e-03]\n"
     ]
    }
   ],
   "source": [
    "vector = model.wv['mileston']\n",
    "print(vector)"
   ]
  },
  {
   "cell_type": "code",
   "execution_count": 88,
   "metadata": {},
   "outputs": [
    {
     "name": "stdout",
     "output_type": "stream",
     "text": [
      "[('third', 0.17419196665287018), ('percent', 0.16737474501132965), ('power', 0.15472766757011414), ('top', 0.15059688687324524), ('mind', 0.14196446537971497), ('dutch', 0.13693764805793762), ('professor', 0.11071143299341202), ('loot', 0.09768405556678772), ('nation', 0.08335109055042267), ('strength', 0.08311422914266586)]\n"
     ]
    }
   ],
   "source": [
    "similar = model.wv.most_similar('respect')\n",
    "print(similar)"
   ]
  },
  {
   "cell_type": "code",
   "execution_count": 89,
   "metadata": {},
   "outputs": [
    {
     "data": {
      "text/html": [
       "\n",
       "    <div class=\"bk-root\">\n",
       "        <a href=\"https://bokeh.pydata.org\" target=\"_blank\" class=\"bk-logo bk-logo-small bk-logo-notebook\"></a>\n",
       "        <span id=\"995c7f15-86c0-418f-bfcb-8e19f947a6f9\">Loading BokehJS ...</span>\n",
       "    </div>"
      ]
     },
     "metadata": {},
     "output_type": "display_data"
    },
    {
     "data": {
      "application/javascript": [
       "\n",
       "(function(root) {\n",
       "  function now() {\n",
       "    return new Date();\n",
       "  }\n",
       "\n",
       "  var force = true;\n",
       "\n",
       "  if (typeof (root._bokeh_onload_callbacks) === \"undefined\" || force === true) {\n",
       "    root._bokeh_onload_callbacks = [];\n",
       "    root._bokeh_is_loading = undefined;\n",
       "  }\n",
       "\n",
       "  var JS_MIME_TYPE = 'application/javascript';\n",
       "  var HTML_MIME_TYPE = 'text/html';\n",
       "  var EXEC_MIME_TYPE = 'application/vnd.bokehjs_exec.v0+json';\n",
       "  var CLASS_NAME = 'output_bokeh rendered_html';\n",
       "\n",
       "  /**\n",
       "   * Render data to the DOM node\n",
       "   */\n",
       "  function render(props, node) {\n",
       "    var script = document.createElement(\"script\");\n",
       "    node.appendChild(script);\n",
       "  }\n",
       "\n",
       "  /**\n",
       "   * Handle when an output is cleared or removed\n",
       "   */\n",
       "  function handleClearOutput(event, handle) {\n",
       "    var cell = handle.cell;\n",
       "\n",
       "    var id = cell.output_area._bokeh_element_id;\n",
       "    var server_id = cell.output_area._bokeh_server_id;\n",
       "    // Clean up Bokeh references\n",
       "    if (id !== undefined) {\n",
       "      Bokeh.index[id].model.document.clear();\n",
       "      delete Bokeh.index[id];\n",
       "    }\n",
       "\n",
       "    if (server_id !== undefined) {\n",
       "      // Clean up Bokeh references\n",
       "      var cmd = \"from bokeh.io.state import curstate; print(curstate().uuid_to_server['\" + server_id + \"'].get_sessions()[0].document.roots[0]._id)\";\n",
       "      cell.notebook.kernel.execute(cmd, {\n",
       "        iopub: {\n",
       "          output: function(msg) {\n",
       "            var element_id = msg.content.text.trim();\n",
       "            Bokeh.index[element_id].model.document.clear();\n",
       "            delete Bokeh.index[element_id];\n",
       "          }\n",
       "        }\n",
       "      });\n",
       "      // Destroy server and session\n",
       "      var cmd = \"import bokeh.io.notebook as ion; ion.destroy_server('\" + server_id + \"')\";\n",
       "      cell.notebook.kernel.execute(cmd);\n",
       "    }\n",
       "  }\n",
       "\n",
       "  /**\n",
       "   * Handle when a new output is added\n",
       "   */\n",
       "  function handleAddOutput(event, handle) {\n",
       "    var output_area = handle.output_area;\n",
       "    var output = handle.output;\n",
       "\n",
       "    // limit handleAddOutput to display_data with EXEC_MIME_TYPE content only\n",
       "    if ((output.output_type != \"display_data\") || (!output.data.hasOwnProperty(EXEC_MIME_TYPE))) {\n",
       "      return\n",
       "    }\n",
       "\n",
       "    var toinsert = output_area.element.find(\".\" + CLASS_NAME.split(' ')[0]);\n",
       "\n",
       "    if (output.metadata[EXEC_MIME_TYPE][\"id\"] !== undefined) {\n",
       "      toinsert[0].firstChild.textContent = output.data[JS_MIME_TYPE];\n",
       "      // store reference to embed id on output_area\n",
       "      output_area._bokeh_element_id = output.metadata[EXEC_MIME_TYPE][\"id\"];\n",
       "    }\n",
       "    if (output.metadata[EXEC_MIME_TYPE][\"server_id\"] !== undefined) {\n",
       "      var bk_div = document.createElement(\"div\");\n",
       "      bk_div.innerHTML = output.data[HTML_MIME_TYPE];\n",
       "      var script_attrs = bk_div.children[0].attributes;\n",
       "      for (var i = 0; i < script_attrs.length; i++) {\n",
       "        toinsert[0].firstChild.setAttribute(script_attrs[i].name, script_attrs[i].value);\n",
       "      }\n",
       "      // store reference to server id on output_area\n",
       "      output_area._bokeh_server_id = output.metadata[EXEC_MIME_TYPE][\"server_id\"];\n",
       "    }\n",
       "  }\n",
       "\n",
       "  function register_renderer(events, OutputArea) {\n",
       "\n",
       "    function append_mime(data, metadata, element) {\n",
       "      // create a DOM node to render to\n",
       "      var toinsert = this.create_output_subarea(\n",
       "        metadata,\n",
       "        CLASS_NAME,\n",
       "        EXEC_MIME_TYPE\n",
       "      );\n",
       "      this.keyboard_manager.register_events(toinsert);\n",
       "      // Render to node\n",
       "      var props = {data: data, metadata: metadata[EXEC_MIME_TYPE]};\n",
       "      render(props, toinsert[0]);\n",
       "      element.append(toinsert);\n",
       "      return toinsert\n",
       "    }\n",
       "\n",
       "    /* Handle when an output is cleared or removed */\n",
       "    events.on('clear_output.CodeCell', handleClearOutput);\n",
       "    events.on('delete.Cell', handleClearOutput);\n",
       "\n",
       "    /* Handle when a new output is added */\n",
       "    events.on('output_added.OutputArea', handleAddOutput);\n",
       "\n",
       "    /**\n",
       "     * Register the mime type and append_mime function with output_area\n",
       "     */\n",
       "    OutputArea.prototype.register_mime_type(EXEC_MIME_TYPE, append_mime, {\n",
       "      /* Is output safe? */\n",
       "      safe: true,\n",
       "      /* Index of renderer in `output_area.display_order` */\n",
       "      index: 0\n",
       "    });\n",
       "  }\n",
       "\n",
       "  // register the mime type if in Jupyter Notebook environment and previously unregistered\n",
       "  if (root.Jupyter !== undefined) {\n",
       "    var events = require('base/js/events');\n",
       "    var OutputArea = require('notebook/js/outputarea').OutputArea;\n",
       "\n",
       "    if (OutputArea.prototype.mime_types().indexOf(EXEC_MIME_TYPE) == -1) {\n",
       "      register_renderer(events, OutputArea);\n",
       "    }\n",
       "  }\n",
       "\n",
       "  \n",
       "  if (typeof (root._bokeh_timeout) === \"undefined\" || force === true) {\n",
       "    root._bokeh_timeout = Date.now() + 5000;\n",
       "    root._bokeh_failed_load = false;\n",
       "  }\n",
       "\n",
       "  var NB_LOAD_WARNING = {'data': {'text/html':\n",
       "     \"<div style='background-color: #fdd'>\\n\"+\n",
       "     \"<p>\\n\"+\n",
       "     \"BokehJS does not appear to have successfully loaded. If loading BokehJS from CDN, this \\n\"+\n",
       "     \"may be due to a slow or bad network connection. Possible fixes:\\n\"+\n",
       "     \"</p>\\n\"+\n",
       "     \"<ul>\\n\"+\n",
       "     \"<li>re-rerun `output_notebook()` to attempt to load from CDN again, or</li>\\n\"+\n",
       "     \"<li>use INLINE resources instead, as so:</li>\\n\"+\n",
       "     \"</ul>\\n\"+\n",
       "     \"<code>\\n\"+\n",
       "     \"from bokeh.resources import INLINE\\n\"+\n",
       "     \"output_notebook(resources=INLINE)\\n\"+\n",
       "     \"</code>\\n\"+\n",
       "     \"</div>\"}};\n",
       "\n",
       "  function display_loaded() {\n",
       "    var el = document.getElementById(\"995c7f15-86c0-418f-bfcb-8e19f947a6f9\");\n",
       "    if (el != null) {\n",
       "      el.textContent = \"BokehJS is loading...\";\n",
       "    }\n",
       "    if (root.Bokeh !== undefined) {\n",
       "      if (el != null) {\n",
       "        el.textContent = \"BokehJS \" + root.Bokeh.version + \" successfully loaded.\";\n",
       "      }\n",
       "    } else if (Date.now() < root._bokeh_timeout) {\n",
       "      setTimeout(display_loaded, 100)\n",
       "    }\n",
       "  }\n",
       "\n",
       "\n",
       "  function run_callbacks() {\n",
       "    try {\n",
       "      root._bokeh_onload_callbacks.forEach(function(callback) { callback() });\n",
       "    }\n",
       "    finally {\n",
       "      delete root._bokeh_onload_callbacks\n",
       "    }\n",
       "    console.info(\"Bokeh: all callbacks have finished\");\n",
       "  }\n",
       "\n",
       "  function load_libs(js_urls, callback) {\n",
       "    root._bokeh_onload_callbacks.push(callback);\n",
       "    if (root._bokeh_is_loading > 0) {\n",
       "      console.log(\"Bokeh: BokehJS is being loaded, scheduling callback at\", now());\n",
       "      return null;\n",
       "    }\n",
       "    if (js_urls == null || js_urls.length === 0) {\n",
       "      run_callbacks();\n",
       "      return null;\n",
       "    }\n",
       "    console.log(\"Bokeh: BokehJS not loaded, scheduling load and callback at\", now());\n",
       "    root._bokeh_is_loading = js_urls.length;\n",
       "    for (var i = 0; i < js_urls.length; i++) {\n",
       "      var url = js_urls[i];\n",
       "      var s = document.createElement('script');\n",
       "      s.src = url;\n",
       "      s.async = false;\n",
       "      s.onreadystatechange = s.onload = function() {\n",
       "        root._bokeh_is_loading--;\n",
       "        if (root._bokeh_is_loading === 0) {\n",
       "          console.log(\"Bokeh: all BokehJS libraries loaded\");\n",
       "          run_callbacks()\n",
       "        }\n",
       "      };\n",
       "      s.onerror = function() {\n",
       "        console.warn(\"failed to load library \" + url);\n",
       "      };\n",
       "      console.log(\"Bokeh: injecting script tag for BokehJS library: \", url);\n",
       "      document.getElementsByTagName(\"head\")[0].appendChild(s);\n",
       "    }\n",
       "  };var element = document.getElementById(\"995c7f15-86c0-418f-bfcb-8e19f947a6f9\");\n",
       "  if (element == null) {\n",
       "    console.log(\"Bokeh: ERROR: autoload.js configured with elementid '995c7f15-86c0-418f-bfcb-8e19f947a6f9' but no matching script tag was found. \")\n",
       "    return false;\n",
       "  }\n",
       "\n",
       "  var js_urls = [\"https://cdn.pydata.org/bokeh/release/bokeh-0.12.13.min.js\", \"https://cdn.pydata.org/bokeh/release/bokeh-widgets-0.12.13.min.js\", \"https://cdn.pydata.org/bokeh/release/bokeh-tables-0.12.13.min.js\", \"https://cdn.pydata.org/bokeh/release/bokeh-gl-0.12.13.min.js\"];\n",
       "\n",
       "  var inline_js = [\n",
       "    function(Bokeh) {\n",
       "      Bokeh.set_log_level(\"info\");\n",
       "    },\n",
       "    \n",
       "    function(Bokeh) {\n",
       "      \n",
       "    },\n",
       "    function(Bokeh) {\n",
       "      console.log(\"Bokeh: injecting CSS: https://cdn.pydata.org/bokeh/release/bokeh-0.12.13.min.css\");\n",
       "      Bokeh.embed.inject_css(\"https://cdn.pydata.org/bokeh/release/bokeh-0.12.13.min.css\");\n",
       "      console.log(\"Bokeh: injecting CSS: https://cdn.pydata.org/bokeh/release/bokeh-widgets-0.12.13.min.css\");\n",
       "      Bokeh.embed.inject_css(\"https://cdn.pydata.org/bokeh/release/bokeh-widgets-0.12.13.min.css\");\n",
       "      console.log(\"Bokeh: injecting CSS: https://cdn.pydata.org/bokeh/release/bokeh-tables-0.12.13.min.css\");\n",
       "      Bokeh.embed.inject_css(\"https://cdn.pydata.org/bokeh/release/bokeh-tables-0.12.13.min.css\");\n",
       "    }\n",
       "  ];\n",
       "\n",
       "  function run_inline_js() {\n",
       "    \n",
       "    if ((root.Bokeh !== undefined) || (force === true)) {\n",
       "      for (var i = 0; i < inline_js.length; i++) {\n",
       "        inline_js[i].call(root, root.Bokeh);\n",
       "      }if (force === true) {\n",
       "        display_loaded();\n",
       "      }} else if (Date.now() < root._bokeh_timeout) {\n",
       "      setTimeout(run_inline_js, 100);\n",
       "    } else if (!root._bokeh_failed_load) {\n",
       "      console.log(\"Bokeh: BokehJS failed to load within specified timeout.\");\n",
       "      root._bokeh_failed_load = true;\n",
       "    } else if (force !== true) {\n",
       "      var cell = $(document.getElementById(\"995c7f15-86c0-418f-bfcb-8e19f947a6f9\")).parents('.cell').data().cell;\n",
       "      cell.output_area.append_execute_result(NB_LOAD_WARNING)\n",
       "    }\n",
       "\n",
       "  }\n",
       "\n",
       "  if (root._bokeh_is_loading === 0) {\n",
       "    console.log(\"Bokeh: BokehJS loaded, going straight to plotting\");\n",
       "    run_inline_js();\n",
       "  } else {\n",
       "    load_libs(js_urls, function() {\n",
       "      console.log(\"Bokeh: BokehJS plotting callback run at\", now());\n",
       "      run_inline_js();\n",
       "    });\n",
       "  }\n",
       "}(window));"
      ],
      "application/vnd.bokehjs_load.v0+json": "\n(function(root) {\n  function now() {\n    return new Date();\n  }\n\n  var force = true;\n\n  if (typeof (root._bokeh_onload_callbacks) === \"undefined\" || force === true) {\n    root._bokeh_onload_callbacks = [];\n    root._bokeh_is_loading = undefined;\n  }\n\n  \n\n  \n  if (typeof (root._bokeh_timeout) === \"undefined\" || force === true) {\n    root._bokeh_timeout = Date.now() + 5000;\n    root._bokeh_failed_load = false;\n  }\n\n  var NB_LOAD_WARNING = {'data': {'text/html':\n     \"<div style='background-color: #fdd'>\\n\"+\n     \"<p>\\n\"+\n     \"BokehJS does not appear to have successfully loaded. If loading BokehJS from CDN, this \\n\"+\n     \"may be due to a slow or bad network connection. Possible fixes:\\n\"+\n     \"</p>\\n\"+\n     \"<ul>\\n\"+\n     \"<li>re-rerun `output_notebook()` to attempt to load from CDN again, or</li>\\n\"+\n     \"<li>use INLINE resources instead, as so:</li>\\n\"+\n     \"</ul>\\n\"+\n     \"<code>\\n\"+\n     \"from bokeh.resources import INLINE\\n\"+\n     \"output_notebook(resources=INLINE)\\n\"+\n     \"</code>\\n\"+\n     \"</div>\"}};\n\n  function display_loaded() {\n    var el = document.getElementById(\"995c7f15-86c0-418f-bfcb-8e19f947a6f9\");\n    if (el != null) {\n      el.textContent = \"BokehJS is loading...\";\n    }\n    if (root.Bokeh !== undefined) {\n      if (el != null) {\n        el.textContent = \"BokehJS \" + root.Bokeh.version + \" successfully loaded.\";\n      }\n    } else if (Date.now() < root._bokeh_timeout) {\n      setTimeout(display_loaded, 100)\n    }\n  }\n\n\n  function run_callbacks() {\n    try {\n      root._bokeh_onload_callbacks.forEach(function(callback) { callback() });\n    }\n    finally {\n      delete root._bokeh_onload_callbacks\n    }\n    console.info(\"Bokeh: all callbacks have finished\");\n  }\n\n  function load_libs(js_urls, callback) {\n    root._bokeh_onload_callbacks.push(callback);\n    if (root._bokeh_is_loading > 0) {\n      console.log(\"Bokeh: BokehJS is being loaded, scheduling callback at\", now());\n      return null;\n    }\n    if (js_urls == null || js_urls.length === 0) {\n      run_callbacks();\n      return null;\n    }\n    console.log(\"Bokeh: BokehJS not loaded, scheduling load and callback at\", now());\n    root._bokeh_is_loading = js_urls.length;\n    for (var i = 0; i < js_urls.length; i++) {\n      var url = js_urls[i];\n      var s = document.createElement('script');\n      s.src = url;\n      s.async = false;\n      s.onreadystatechange = s.onload = function() {\n        root._bokeh_is_loading--;\n        if (root._bokeh_is_loading === 0) {\n          console.log(\"Bokeh: all BokehJS libraries loaded\");\n          run_callbacks()\n        }\n      };\n      s.onerror = function() {\n        console.warn(\"failed to load library \" + url);\n      };\n      console.log(\"Bokeh: injecting script tag for BokehJS library: \", url);\n      document.getElementsByTagName(\"head\")[0].appendChild(s);\n    }\n  };var element = document.getElementById(\"995c7f15-86c0-418f-bfcb-8e19f947a6f9\");\n  if (element == null) {\n    console.log(\"Bokeh: ERROR: autoload.js configured with elementid '995c7f15-86c0-418f-bfcb-8e19f947a6f9' but no matching script tag was found. \")\n    return false;\n  }\n\n  var js_urls = [\"https://cdn.pydata.org/bokeh/release/bokeh-0.12.13.min.js\", \"https://cdn.pydata.org/bokeh/release/bokeh-widgets-0.12.13.min.js\", \"https://cdn.pydata.org/bokeh/release/bokeh-tables-0.12.13.min.js\", \"https://cdn.pydata.org/bokeh/release/bokeh-gl-0.12.13.min.js\"];\n\n  var inline_js = [\n    function(Bokeh) {\n      Bokeh.set_log_level(\"info\");\n    },\n    \n    function(Bokeh) {\n      \n    },\n    function(Bokeh) {\n      console.log(\"Bokeh: injecting CSS: https://cdn.pydata.org/bokeh/release/bokeh-0.12.13.min.css\");\n      Bokeh.embed.inject_css(\"https://cdn.pydata.org/bokeh/release/bokeh-0.12.13.min.css\");\n      console.log(\"Bokeh: injecting CSS: https://cdn.pydata.org/bokeh/release/bokeh-widgets-0.12.13.min.css\");\n      Bokeh.embed.inject_css(\"https://cdn.pydata.org/bokeh/release/bokeh-widgets-0.12.13.min.css\");\n      console.log(\"Bokeh: injecting CSS: https://cdn.pydata.org/bokeh/release/bokeh-tables-0.12.13.min.css\");\n      Bokeh.embed.inject_css(\"https://cdn.pydata.org/bokeh/release/bokeh-tables-0.12.13.min.css\");\n    }\n  ];\n\n  function run_inline_js() {\n    \n    if ((root.Bokeh !== undefined) || (force === true)) {\n      for (var i = 0; i < inline_js.length; i++) {\n        inline_js[i].call(root, root.Bokeh);\n      }if (force === true) {\n        display_loaded();\n      }} else if (Date.now() < root._bokeh_timeout) {\n      setTimeout(run_inline_js, 100);\n    } else if (!root._bokeh_failed_load) {\n      console.log(\"Bokeh: BokehJS failed to load within specified timeout.\");\n      root._bokeh_failed_load = true;\n    } else if (force !== true) {\n      var cell = $(document.getElementById(\"995c7f15-86c0-418f-bfcb-8e19f947a6f9\")).parents('.cell').data().cell;\n      cell.output_area.append_execute_result(NB_LOAD_WARNING)\n    }\n\n  }\n\n  if (root._bokeh_is_loading === 0) {\n    console.log(\"Bokeh: BokehJS loaded, going straight to plotting\");\n    run_inline_js();\n  } else {\n    load_libs(js_urls, function() {\n      console.log(\"Bokeh: BokehJS plotting callback run at\", now());\n      run_inline_js();\n    });\n  }\n}(window));"
     },
     "metadata": {},
     "output_type": "display_data"
    },
    {
     "name": "stderr",
     "output_type": "stream",
     "text": [
      "C:\\ProgramData\\Anaconda3\\lib\\site-packages\\ipykernel_launcher.py:14: DeprecationWarning: Call to deprecated `__getitem__` (Method will be removed in 4.0.0, use self.wv.__getitem__() instead).\n",
      "  \n"
     ]
    },
    {
     "name": "stdout",
     "output_type": "stream",
     "text": [
      "[t-SNE] Computing 91 nearest neighbors...\n",
      "[t-SNE] Indexed 113 samples in 0.000s...\n",
      "[t-SNE] Computed neighbors for 113 samples in 0.004s...\n",
      "[t-SNE] Computed conditional probabilities for sample 113 / 113\n",
      "[t-SNE] Mean sigma: 0.005938\n",
      "[t-SNE] KL divergence after 250 iterations with early exaggeration: 62.331898\n",
      "[t-SNE] KL divergence after 1000 iterations: 0.919031\n"
     ]
    },
    {
     "data": {
      "text/html": [
       "\n",
       "<div class=\"bk-root\">\n",
       "    <div class=\"bk-plotdiv\" id=\"8f2aa94d-e603-4c51-b2ae-f9ef1e9bc401\"></div>\n",
       "</div>"
      ]
     },
     "metadata": {},
     "output_type": "display_data"
    },
    {
     "data": {
      "application/javascript": [
       "(function(root) {\n",
       "  function embed_document(root) {\n",
       "    \n",
       "  var docs_json = {\"7113a520-4c34-4068-80bc-764854f5ed59\":{\"roots\":{\"references\":[{\"attributes\":{\"bottom_units\":\"screen\",\"fill_alpha\":{\"value\":0.5},\"fill_color\":{\"value\":\"lightgrey\"},\"left_units\":\"screen\",\"level\":\"overlay\",\"line_alpha\":{\"value\":1.0},\"line_color\":{\"value\":\"black\"},\"line_dash\":[4,4],\"line_width\":{\"value\":2},\"plot\":null,\"render_mode\":\"css\",\"right_units\":\"screen\",\"top_units\":\"screen\"},\"id\":\"62d71088-b10a-41b9-b4ca-6603708fbfe6\",\"type\":\"BoxAnnotation\"},{\"attributes\":{},\"id\":\"0b0a1afb-2bf8-4a86-87b9-ab993c166b6e\",\"type\":\"LinearScale\"},{\"attributes\":{\"callback\":null},\"id\":\"3a5dffbd-08d5-40ea-aa67-a8c7f559b8af\",\"type\":\"DataRange1d\"},{\"attributes\":{},\"id\":\"2ff6efca-72dd-42e2-ab91-844eeb6c0695\",\"type\":\"LinearScale\"},{\"attributes\":{\"active_drag\":\"auto\",\"active_inspect\":\"auto\",\"active_scroll\":\"auto\",\"active_tap\":\"auto\",\"tools\":[{\"id\":\"3bf023e9-7623-4989-9aa2-ffb5218db145\",\"type\":\"PanTool\"},{\"id\":\"b3cc5d9d-c52d-4e02-8518-dbb6d59dff8d\",\"type\":\"WheelZoomTool\"},{\"id\":\"16b203c8-b93c-4c94-9149-712705e2d48c\",\"type\":\"BoxZoomTool\"},{\"id\":\"eb8ca682-41d9-46da-bb85-ffde0d6b84e7\",\"type\":\"ResetTool\"},{\"id\":\"6fdf3e1a-887f-4a9a-9274-663225c9b137\",\"type\":\"HoverTool\"},{\"id\":\"6d55fc94-38b7-468d-a671-01375d32daae\",\"type\":\"SaveTool\"}]},\"id\":\"d39b77f7-cd2a-4960-ac09-231225d77d12\",\"type\":\"Toolbar\"},{\"attributes\":{\"plot\":null,\"text\":\"A map of 10000 word vectors\"},\"id\":\"7a2ccb56-1dc8-4bc7-a7b5-a7747e8b5950\",\"type\":\"Title\"},{\"attributes\":{\"fill_color\":{\"value\":\"#1f77b4\"},\"line_color\":{\"value\":\"#1f77b4\"},\"x\":{\"field\":\"x\"},\"y\":{\"field\":\"y\"}},\"id\":\"10d9ac9c-2fac-46e6-9f30-7f605bfbe8fe\",\"type\":\"Circle\"},{\"attributes\":{\"callback\":null,\"column_names\":[\"x\",\"y\",\"words\",\"index\"],\"data\":{\"index\":[0,1,2,3,4,5,6,7,8,9,10,11,12,13,14,15,16,17,18,19,20,21,22,23,24,25,26,27,28,29,30,31,32,33,34,35,36,37,38,39,40,41,42,43,44,45,46,47,48,49,50,51,52,53,54,55,56,57,58,59,60,61,62,63,64,65,66,67,68,69,70,71,72,73,74,75,76,77,78,79,80,81,82,83,84,85,86,87,88,89,90,91,92,93,94,95,96,97,98,99,100,101,102,103,104,105,106,107,108,109,110,111,112],\"words\":[\"three\",\"vision\",\"india\",\"year\",\"histori\",\"peopl\",\"world\",\"come\",\"invad\",\"us\",\"captur\",\"land\",\"conquer\",\"mind\",\"alexand\",\"onward\",\"greek\",\"turk\",\"mogul\",\"portugues\",\"british\",\"french\",\"dutch\",\"came\",\"loot\",\"took\",\"yet\",\"done\",\"nation\",\"anyon\",\"grab\",\"cultur\",\"tri\",\"enforc\",\"way\",\"life\",\"respect\",\"freedom\",\"other\",\"first\",\"believ\",\"got\",\"start\",\"war\",\"independ\",\"must\",\"protect\",\"nurtur\",\"build\",\"free\",\"one\",\"second\",\"develop\",\"fifti\",\"time\",\"see\",\"among\",\"top\",\"term\",\"gdp\",\"percent\",\"growth\",\"rate\",\"area\",\"poverti\",\"level\",\"fall\",\"achiev\",\"global\",\"recognis\",\"today\",\"lack\",\"self\",\"confid\",\"reliant\",\"assur\",\"incorrect\",\"third\",\"stand\",\"unless\",\"strength\",\"strong\",\"militari\",\"power\",\"also\",\"econom\",\"go\",\"hand\",\"good\",\"fortun\",\"work\",\"great\",\"dr\",\"vikram\",\"sarabhai\",\"dept\",\"space\",\"professor\",\"satish\",\"dhawan\",\"succeed\",\"brahm\",\"prakash\",\"father\",\"nuclear\",\"materi\",\"lucki\",\"close\",\"consid\",\"opportun\",\"four\",\"mileston\",\"career\"],\"x\":{\"__ndarray__\":\"FhMmwMJfAUCuF04/QNqXwPCSLEA+2VPAlTWIwPtRHUBEJwhAWS2Pv5qeBcDmr9S/1+qnv4hDOkA3fJi+E4gPPyPhkrwAiKA/vE6rv4NwWb/cDMW/R6v9voSX4L9MFSdAOP6zv9xYsD+CnPM+5zfgP26OUMDFYUjAOvp/P+w6QkA0T9S/NOTsv/RrW7/b+UO91dNNwMubMMATLp0/2izkv1vglb9BGR2/kO4lQNSjdcDUyRfAR7xFQIRJBsAOK6M/6cIpwIq1ccBx9w8/LnURPzySBUClSsS+DEaQwIXwHMAh8ac++w12wDQmUL/mohZAaFxtwJdxCr9imWZA3r0dPp/jCr5uGaS+kvttPwXCFkACOk3AlHbXP96wNj64Gq8+JBM6QIirnr/Lp7c/tLBQwHDVpj9lIjPAnFckwPekA7/yaPy+iNw1QLWfPr8tDlm/5DVRv6ZG4797zlY/nj6tvkbaQL4UZU8/wCJzQDaUFsDgqcM/aZ+cwDEju7/k6y3AjxedP6+VCMCccYQ/+tRJQCaTGUAZE5I/1qjQPuRd97+/4oRAZdMQPvI2b7+G7AZA1QtEPwLtBj+0divAjOhBQPhay74=\",\"dtype\":\"float32\",\"shape\":[113]},\"y\":{\"__ndarray__\":\"Kg3qQMr2NECsXD0/xgahQEqJsEDD6OE/VheOQJRWVT3YNshA0uEeQMeyXD+WsKhAZkLAQO/EkEBNG1JA6QwLP0hnkED+IR9AInpOQM/rnUDROElAP0JgQLLFbkBdZlpAouO+QDXrtT/SHYJAl3WYQBQbzEAQUaA+pOeOQJ54CUDb4HBAfOGnQHYo70BPVQtAOjKUQDs5G0DtgWxAHVvtQOa23z+ZagBBhIu4P1vj4T9/gadAkmNBQCA4jj/BreFAaGIBQV76M0BAb15Avb/+P4B2jj+j/Ce+1J2RQFTL6kDX9ZdARI5NQIJks0AjZeQ+E2WtQDNXgkCZB7xAH3rkQHPEC0A5R7JAQNGYQKdufUC8o3I+zekgQF+If0BMPkJA9Us+QIOqNEAAkvBA87O9QBHXSUDdnItAPZT/P+M2JEB7W6FAPT6rQOGBjUCtcOdAe40CQZCwiEC3HgJAtIWovoyUiD9YybJAr/uaQChXCUDJ1PlA+A52QIOb+0BSF1tAuBGcPwSCu0DtF8JAdcbeQKE1vkBmjKVA36irQOCJlkAWynJAQTXJQP9phj+adVZA86SsQDTOfkDfzUBAC2edQI8JI0A=\",\"dtype\":\"float32\",\"shape\":[113]}}},\"id\":\"8ed1c8f3-df7a-4bc5-879b-8f6c92dfbe17\",\"type\":\"ColumnDataSource\"},{\"attributes\":{\"data_source\":{\"id\":\"8ed1c8f3-df7a-4bc5-879b-8f6c92dfbe17\",\"type\":\"ColumnDataSource\"},\"glyph\":{\"id\":\"10d9ac9c-2fac-46e6-9f30-7f605bfbe8fe\",\"type\":\"Circle\"},\"hover_glyph\":null,\"muted_glyph\":null,\"nonselection_glyph\":{\"id\":\"9b4dcd7e-7710-40ba-ba77-d08c8c933f59\",\"type\":\"Circle\"},\"selection_glyph\":null,\"view\":{\"id\":\"bd9ff5c7-5535-4aee-933b-e0a64cc087d0\",\"type\":\"CDSView\"}},\"id\":\"6691677e-ba24-4b5c-8e85-4f71a3e7e198\",\"type\":\"GlyphRenderer\"},{\"attributes\":{\"source\":{\"id\":\"8ed1c8f3-df7a-4bc5-879b-8f6c92dfbe17\",\"type\":\"ColumnDataSource\"}},\"id\":\"bd9ff5c7-5535-4aee-933b-e0a64cc087d0\",\"type\":\"CDSView\"},{\"attributes\":{\"fill_alpha\":{\"value\":0.1},\"fill_color\":{\"value\":\"#1f77b4\"},\"line_alpha\":{\"value\":0.1},\"line_color\":{\"value\":\"#1f77b4\"},\"x\":{\"field\":\"x\"},\"y\":{\"field\":\"y\"}},\"id\":\"9b4dcd7e-7710-40ba-ba77-d08c8c933f59\",\"type\":\"Circle\"},{\"attributes\":{\"callback\":null},\"id\":\"14bedea7-ac86-47c5-8c7c-d2388b89d0df\",\"type\":\"DataRange1d\"},{\"attributes\":{},\"id\":\"6d55fc94-38b7-468d-a671-01375d32daae\",\"type\":\"SaveTool\"},{\"attributes\":{\"callback\":null,\"tooltips\":[[\"word\",\"@words\"]]},\"id\":\"6fdf3e1a-887f-4a9a-9274-663225c9b137\",\"type\":\"HoverTool\"},{\"attributes\":{},\"id\":\"eb8ca682-41d9-46da-bb85-ffde0d6b84e7\",\"type\":\"ResetTool\"},{\"attributes\":{\"overlay\":{\"id\":\"62d71088-b10a-41b9-b4ca-6603708fbfe6\",\"type\":\"BoxAnnotation\"}},\"id\":\"16b203c8-b93c-4c94-9149-712705e2d48c\",\"type\":\"BoxZoomTool\"},{\"attributes\":{},\"id\":\"b3cc5d9d-c52d-4e02-8518-dbb6d59dff8d\",\"type\":\"WheelZoomTool\"},{\"attributes\":{\"min_border\":1,\"plot_width\":700,\"renderers\":[{\"id\":\"62d71088-b10a-41b9-b4ca-6603708fbfe6\",\"type\":\"BoxAnnotation\"},{\"id\":\"6691677e-ba24-4b5c-8e85-4f71a3e7e198\",\"type\":\"GlyphRenderer\"}],\"title\":{\"id\":\"7a2ccb56-1dc8-4bc7-a7b5-a7747e8b5950\",\"type\":\"Title\"},\"toolbar\":{\"id\":\"d39b77f7-cd2a-4960-ac09-231225d77d12\",\"type\":\"Toolbar\"},\"x_range\":{\"id\":\"14bedea7-ac86-47c5-8c7c-d2388b89d0df\",\"type\":\"DataRange1d\"},\"x_scale\":{\"id\":\"2ff6efca-72dd-42e2-ab91-844eeb6c0695\",\"type\":\"LinearScale\"},\"y_range\":{\"id\":\"3a5dffbd-08d5-40ea-aa67-a8c7f559b8af\",\"type\":\"DataRange1d\"},\"y_scale\":{\"id\":\"0b0a1afb-2bf8-4a86-87b9-ab993c166b6e\",\"type\":\"LinearScale\"}},\"id\":\"b92d61e5-768f-487b-9d4b-49416b4d1c6e\",\"subtype\":\"Figure\",\"type\":\"Plot\"},{\"attributes\":{},\"id\":\"3bf023e9-7623-4989-9aa2-ffb5218db145\",\"type\":\"PanTool\"}],\"root_ids\":[\"b92d61e5-768f-487b-9d4b-49416b4d1c6e\"]},\"title\":\"Bokeh Application\",\"version\":\"0.12.13\"}};\n",
       "  var render_items = [{\"docid\":\"7113a520-4c34-4068-80bc-764854f5ed59\",\"elementid\":\"8f2aa94d-e603-4c51-b2ae-f9ef1e9bc401\",\"modelid\":\"b92d61e5-768f-487b-9d4b-49416b4d1c6e\"}];\n",
       "  root.Bokeh.embed.embed_items_notebook(docs_json, render_items);\n",
       "\n",
       "  }\n",
       "  if (root.Bokeh !== undefined) {\n",
       "    embed_document(root);\n",
       "  } else {\n",
       "    var attempts = 0;\n",
       "    var timer = setInterval(function(root) {\n",
       "      if (root.Bokeh !== undefined) {\n",
       "        embed_document(root);\n",
       "        clearInterval(timer);\n",
       "      }\n",
       "      attempts++;\n",
       "      if (attempts > 100) {\n",
       "        console.log(\"Bokeh: ERROR: Unable to run BokehJS code because BokehJS library is missing\")\n",
       "        clearInterval(timer);\n",
       "      }\n",
       "    }, 10, root)\n",
       "  }\n",
       "})(window);"
      ],
      "application/vnd.bokehjs_exec.v0+json": ""
     },
     "metadata": {
      "application/vnd.bokehjs_exec.v0+json": {
       "id": "b92d61e5-768f-487b-9d4b-49416b4d1c6e"
      }
     },
     "output_type": "display_data"
    }
   ],
   "source": [
    "# importing bokeh library for interactive dataviz\n",
    "\n",
    "import pandas as pd\n",
    "from sklearn.feature_extraction.text import TfidfVectorizer\n",
    "import bokeh.plotting as bp\n",
    "from bokeh.models import HoverTool, BoxSelectTool\n",
    "from bokeh.plotting import figure, show, output_notebook\n",
    "\n",
    "output_notebook()\n",
    "plot = bp.figure(plot_width=700, plot_height=600, title=\"A map of 10000 word vectors\",\n",
    "                        tools=\"pan,wheel_zoom,box_zoom,reset,hover,previewsave\",\n",
    "                        x_axis_type=None, y_axis_type=None, min_border=1)\n",
    "# getting a list of word vectors. limit to 500. each is of 200 dimensions\n",
    "word_vectors = [model[w] for w in list(model.wv.vocab.keys())[:500]]\n",
    "\n",
    "# dimensionality reduction. converting the vectors to 2d vectors\n",
    "from sklearn.manifold import TSNE\n",
    "tsne_model = TSNE(n_components=2, verbose=1, random_state=0)\n",
    "tsne_w2v = tsne_model.fit_transform(word_vectors)\n",
    "\n",
    "# putting everything in a dataframe\n",
    "tsne_df = pd.DataFrame(tsne_w2v, columns=['x', 'y'])\n",
    "tsne_df['words'] = list(model.wv.vocab.keys())[:500]\n",
    "\n",
    "# plotting. the corresponding word appears when you hover on the data point.\n",
    "plot.scatter(x='x', y='y', source=tsne_df)\n",
    "hover = plot.select(dict(type=HoverTool))\n",
    "hover.tooltips={\"word\": \"@words\"}\n",
    "show(plot)"
   ]
  },
  {
   "cell_type": "code",
   "execution_count": null,
   "metadata": {},
   "outputs": [],
   "source": []
  }
 ],
 "metadata": {
  "kernelspec": {
   "display_name": "Python 3",
   "language": "python",
   "name": "python3"
  },
  "language_info": {
   "codemirror_mode": {
    "name": "ipython",
    "version": 3
   },
   "file_extension": ".py",
   "mimetype": "text/x-python",
   "name": "python",
   "nbconvert_exporter": "python",
   "pygments_lexer": "ipython3",
   "version": "3.6.4"
  }
 },
 "nbformat": 4,
 "nbformat_minor": 2
}
